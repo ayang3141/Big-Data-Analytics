{
 "cells": [
  {
   "cell_type": "code",
   "execution_count": 1,
   "id": "f999ee2a",
   "metadata": {},
   "outputs": [
    {
     "name": "stderr",
     "output_type": "stream",
     "text": [
      "C:\\Users\\Adam Yang\\anaconda3\\lib\\site-packages\\scipy\\__init__.py:138: UserWarning: A NumPy version >=1.16.5 and <1.23.0 is required for this version of SciPy (detected version 1.23.3)\n",
      "  warnings.warn(f\"A NumPy version >={np_minversion} and <{np_maxversion} is required for this version of \"\n"
     ]
    }
   ],
   "source": [
    "import pandas as pd\n",
    "import numpy as np\n",
    "import sklearn\n",
    "import matplotlib.pyplot as plt\n",
    "import seaborn as sns\n",
    "\n",
    "from sklearn.linear_model import LogisticRegression\n",
    "from sklearn.tree import DecisionTreeClassifier\n",
    "from sklearn.naive_bayes import GaussianNB\n",
    "from sklearn import svm\n",
    "from sklearn.neighbors import KNeighborsClassifier\n",
    "from sklearn.neural_network import MLPClassifier\n",
    "from sklearn.model_selection import train_test_split\n",
    "from sklearn.metrics import confusion_matrix\n",
    "from sklearn.metrics import accuracy_score\n",
    "from sklearn.ensemble import RandomForestClassifier\n",
    "from sklearn.ensemble import AdaBoostClassifier\n",
    "from sklearn.ensemble import BaggingClassifier\n",
    "from sklearn.ensemble import ExtraTreesClassifier\n",
    "from sklearn.utils import resample"
   ]
  },
  {
   "cell_type": "code",
   "execution_count": 2,
   "id": "365c1d29",
   "metadata": {},
   "outputs": [
    {
     "name": "stdout",
     "output_type": "stream",
     "text": [
      "Shape of total dataset is: (1852394, 23)\n"
     ]
    }
   ],
   "source": [
    "train_df = pd.read_csv('fraudTrain.csv')\n",
    "test_df = pd.read_csv('fraudTest.csv')\n",
    "fraud_df = pd.concat([train_df, test_df])\n",
    "fraud_df = fraud_df.reset_index(drop=True)\n",
    "# index - Unique Identifier for each row\n",
    "# transdatetrans_time - Transaction DateTime\n",
    "# cc_num - Credit Card Number of Customer\n",
    "# merchant - Merchant Name\n",
    "# category - Category of Merchant\n",
    "# amt - Amount of Transaction\n",
    "# first - First Name of Credit Card Holder\n",
    "# last - Last Name of Credit Card Holder\n",
    "# gender - Gender of Credit Card Holder\n",
    "# street - Street Address of Credit Card Holder\n",
    "# city - City of Credit Card Holder\n",
    "# state - State of Credit Card Holder\n",
    "# zip - Zip of Credit Card Holder\n",
    "# lat - Latitude Location of Credit Card Holder\n",
    "# long - Longitude Location of Credit Card Holder\n",
    "# city_pop - Credit Card Holder's City Population\n",
    "# job - Job of Credit Card Holder\n",
    "# dob - Date of Birth of Credit Card Holder\n",
    "# trans_num - Transaction Number\n",
    "# unix_time - UNIX Time of transaction\n",
    "# merch_lat - Latitude Location of Merchant\n",
    "# merch_long - Longitude Location of Merchant\n",
    "# is_fraud - Fraud Flag <--- Target Class\n",
    "\n",
    "print(\"Shape of total dataset is:\", fraud_df.shape)\n",
    "# fraud_df.head()"
   ]
  },
  {
   "cell_type": "code",
   "execution_count": 3,
   "id": "7309a7d4",
   "metadata": {},
   "outputs": [
    {
     "data": {
      "text/plain": [
       "Index(['Unnamed: 0', 'trans_date_trans_time', 'cc_num', 'merchant', 'category',\n",
       "       'amt', 'first', 'last', 'gender', 'street', 'city', 'state', 'zip',\n",
       "       'lat', 'long', 'city_pop', 'job', 'dob', 'trans_num', 'unix_time',\n",
       "       'merch_lat', 'merch_long', 'is_fraud'],\n",
       "      dtype='object')"
      ]
     },
     "execution_count": 3,
     "metadata": {},
     "output_type": "execute_result"
    }
   ],
   "source": [
    "fraud_df.columns"
   ]
  },
  {
   "cell_type": "code",
   "execution_count": 4,
   "id": "aaa72bd7",
   "metadata": {},
   "outputs": [
    {
     "data": {
      "text/plain": [
       "0    1842743\n",
       "1       9651\n",
       "Name: is_fraud, dtype: int64"
      ]
     },
     "execution_count": 4,
     "metadata": {},
     "output_type": "execute_result"
    }
   ],
   "source": [
    "fraud_df['is_fraud'].value_counts()"
   ]
  },
  {
   "cell_type": "code",
   "execution_count": 5,
   "id": "0a79533f",
   "metadata": {},
   "outputs": [
    {
     "data": {
      "image/png": "[encoded data removed]",
      "text/plain": [
       "<Figure size 360x360 with 1 Axes>"
      ]
     },
     "metadata": {},
     "output_type": "display_data"
    }
   ],
   "source": [
    "# Explore imbalanced data\n",
    "data_imbalance_group = fraud_df['is_fraud'].value_counts()\n",
    "# region_groups = region_groups.sort_values()\n",
    "labels = ['Non-Fraud', 'Fraud']\n",
    "colors = ['#ADD8E6', '#FFD580']\n",
    "sizes = data_imbalance_group.values\n",
    "explode = (0, 0)  # only \"explode\" the 2nd slice (i.e. 'Hogs')\n",
    "\n",
    "# plt.figure(figsize=(10,10))\n",
    "fig1, ax1 = plt.subplots(figsize=(5, 5))\n",
    "# plt.rc('font', size=15)          # controls default text sizes\n",
    "# plt.rc('legend', fontsize=25)    # legend fontsize\n",
    "ax1.pie(sizes, explode=explode, labels=labels, shadow=True, autopct='%1.1f%%', startangle=0, textprops={'fontsize': 15})\n",
    "ax1.axis('equal')  # Equal aspect ratio ensures that pie is drawn as a circle.\n",
    "plt.title(\"Fraud/Non-Fraud Split\")\n",
    "\n",
    "\n",
    "plt.show()"
   ]
  },
  {
   "cell_type": "markdown",
   "id": "42b546bf",
   "metadata": {},
   "source": [
    "# Data Preprocessing"
   ]
  },
  {
   "cell_type": "code",
   "execution_count": 6,
   "id": "b8c4e26a",
   "metadata": {},
   "outputs": [],
   "source": [
    "def EDA_data_preprocessing(df):\n",
    "    # DROP UNNECESSARY COLUMNS\n",
    "    drop_columns = ['Unnamed: 0', 'cc_num', 'merchant', \n",
    "                    'first', 'last', 'unix_time', 'trans_num', 'street',\n",
    "                   'city', 'job']\n",
    "    df = df.drop(drop_columns, axis=1)\n",
    "    \n",
    "    # CREATE HOUR, DAY, AND MONTH COLUMNS\n",
    "    df['hour'] = pd.to_datetime(df['trans_date_trans_time']).dt.hour\n",
    "    df['day_of_week'] = pd.to_datetime(df['trans_date_trans_time']).dt.dayofweek\n",
    "    df['month'] = pd.to_datetime(df['trans_date_trans_time']).dt.month\n",
    "    \n",
    "#     # CREATE MAPPINGS FOR DAY AND MONTH\n",
    "#     day_mapping = {0:\"Mon\", 1:\"Tue\", 2:\"Wed\", 3:\"Thur\", 4:\"Fri\", 5:\"Sat\", 6:\"Sun\"}\n",
    "#     month_mapping = {1:\"Jan\", 2:\"Feb\", 3:\"Mar\", 4:\"Apr\", 5:\"May\", 6:\"Jun\", \n",
    "#                      7:\"Jul\", 8:\"Aug\", 9:\"Sep\", 10:\"Oct\", 11:\"Nov\", 12:\"Dec\"}\n",
    "#     df['day_of_week'] = df['day_of_week'].map(day_mapping)\n",
    "#     df['month'] = df['month'].map(month_mapping)\n",
    "\n",
    "    # CREATE AGE COLUMN BASED ON DATE-OF-BIRTH AND TRANSACTION DATE\n",
    "    df['age'] = pd.to_datetime(df['trans_date_trans_time']).dt.year - pd.to_datetime(df['dob']).dt.year\n",
    "    df = df.drop('dob', axis=1)\n",
    "    df = df.drop('trans_date_trans_time', axis=1)\n",
    "    \n",
    "    # CREATE AGE GROUP COLUMN BASED ON AGE COLUMNS\n",
    "    bins = [0, 10, 20, 30, 40, 50, 60, 70, 80, 90, 100]\n",
    "    labels = ['0-9', '10-19', '20-29', '30-39', '40-49', '50-59', '60-69', '70-79', '80-89', '90-99']\n",
    "    df['age_group'] = pd.cut(df['age'], bins, labels = labels,include_lowest = True)\n",
    "    \n",
    "#     # CREATE AMOUNT GROUP COLUMN BASED ON AMOUNT COLUMN\n",
    "#     bins = [0, 500, 1000, 1500, 2000, 50, 60, 70, 80, 90, 100]\n",
    "#     labels = ['0-9', '10-19', '20-29', '30-39', '40-49', '50-59', '60-69', '70-79', '80-89', '90-99']\n",
    "#     df['amt_group'] = pd.cut(df['amt'], bins, labels = labels,include_lowest = True)\n",
    "    \n",
    "    # RENAME TRANSACTION CATEGORIES TO BE MORE CLEAR\n",
    "    trans_category_map = {'gas_transport': 'Gas', \n",
    "                          'grocery_pos': 'Grocery Inperson',\n",
    "                          'home': 'Home Goods',\n",
    "                          'shopping_pos': 'Shopping Inperson',\n",
    "                          'kids_pets': 'Kids/Pets',\n",
    "                          'shopping_net': 'Shopping Online',\n",
    "                          'entertainment': 'Entertainment',\n",
    "                          'food_dining': 'Restaurants',\n",
    "                          'personal_care': 'Personal Care',\n",
    "                          'health_fitness': 'Health/Fitness',\n",
    "                          'misc_pos': 'Misc Inperson',\n",
    "                          'misc_net': 'Misc Online',\n",
    "                          'grocery_net': 'Grocery Online',\n",
    "                          'travel': 'Travel'\n",
    "                        }\n",
    "    df['category'] = df['category'].map(trans_category_map)\n",
    "    \n",
    "    # CATEGORIZE STATES INTO US REGIONS\n",
    "    state_region_map = {}\n",
    "    # Create West Region Map\n",
    "    west_states = ['AK', 'AZ', 'CA', \n",
    "                   'CO', 'HI', 'ID', \n",
    "                   'MT', 'NV', 'NM', \n",
    "                   'OR', 'UT', 'WA', 'WY']\n",
    "    west_region = ['West' for i in range(len(west_states))]\n",
    "    west_states_map = dict(zip(west_states, west_region))\n",
    "    state_region_map.update(west_states_map)\n",
    "\n",
    "    # Create Midwest Region Map\n",
    "    midwest_states = ['IL', 'IN', 'IA', 'KS', 'MI', 'MN', 'MO', \n",
    "                      'NE', 'ND', 'OH', 'SD', 'WI']\n",
    "    midwest_region = ['Midwest' for i in range(len(midwest_states))]\n",
    "    midwest_states_map = dict(zip(midwest_states, midwest_region))\n",
    "    state_region_map.update(midwest_states_map)\n",
    "\n",
    "    # Create Northeast Region Map\n",
    "    northeast_states = ['CT', 'ME', 'MA', 'NH', 'NJ', 'NY', \n",
    "                 'PA', 'RI', 'VT']\n",
    "    northeast_region = ['Northeast' for i in range(len(northeast_states))]\n",
    "    northeast_states_map = dict(zip(northeast_states, northeast_region))\n",
    "    state_region_map.update(northeast_states_map)\n",
    "\n",
    "    # Create South Region Map\n",
    "    south_states = ['AL', 'AR', 'DE', 'FL', 'GA', 'KY', 'LA', \n",
    "                    'MD', 'MS', 'NC', 'OK', 'SC', 'TN', \n",
    "                    'TX', 'VA', 'WV']\n",
    "    south_region = ['South' for i in range(len(south_states))]\n",
    "    south_states_map = dict(zip(south_states, south_region))\n",
    "    state_region_map.update(south_states_map)\n",
    "\n",
    "    # Apply final map to states\n",
    "    df['region'] = df['state'].map(state_region_map)\n",
    "    return df\n",
    "\n"
   ]
  },
  {
   "cell_type": "code",
   "execution_count": 7,
   "id": "0058e9a9",
   "metadata": {},
   "outputs": [],
   "source": [
    "def ML_data_preprocessing(df):\n",
    "    # DROP UNNECESSARY COLUMNS\n",
    "    drop_columns = ['Unnamed: 0', 'cc_num', 'merchant', \n",
    "                    'first', 'last', 'unix_time', 'trans_num', 'street',\n",
    "                   'city', 'job']\n",
    "    df = df.drop(drop_columns, axis=1)\n",
    "    \n",
    "    # CREATE GENDER MAPPING\n",
    "    gender_mapping = {'M':1,'F':0}\n",
    "    df['gender_bin'] = df['gender'].map(gender_mapping)\n",
    "    df = df.drop('gender', axis=1)\n",
    "    \n",
    "    # CREATE HOUR, DAY, AND MONTH COLUMNS\n",
    "    df['hour'] = pd.to_datetime(df['trans_date_trans_time']).dt.hour\n",
    "    df['day_of_week'] = pd.to_datetime(df['trans_date_trans_time']).dt.dayofweek\n",
    "    df['month'] = pd.to_datetime(df['trans_date_trans_time']).dt.month\n",
    "\n",
    "    # CREATE AGE COLUMN BASED ON DATE-OF-BIRTH AND TRANSACTION DATE\n",
    "    df['age'] = pd.to_datetime(df['trans_date_trans_time']).dt.year - pd.to_datetime(df['dob']).dt.year\n",
    "    df = df.drop('dob', axis=1)\n",
    "    df = df.drop('trans_date_trans_time', axis=1)\n",
    "\n",
    "    # RENAME TRANSACTION CATEGORIES TO BE MORE CLEAR\n",
    "    trans_category_map = {'gas_transport': 'Gas', \n",
    "                          'grocery_pos': 'Grocery Inperson',\n",
    "                          'home': 'Home Goods',\n",
    "                          'shopping_pos': 'Shopping Inperson',\n",
    "                          'kids_pets': 'Kids/Pets',\n",
    "                          'shopping_net': 'Shopping Online',\n",
    "                          'entertainment': 'Entertainment',\n",
    "                          'food_dining': 'Restaurants',\n",
    "                          'personal_care': 'Personal Care',\n",
    "                          'health_fitness': 'Health/Fitness',\n",
    "                          'misc_pos': 'Misc Inperson',\n",
    "                          'misc_net': 'Misc Online',\n",
    "                          'grocery_net': 'Grocery Online',\n",
    "                          'travel': 'Travel'\n",
    "                        }\n",
    "    df['category'] = df['category'].map(trans_category_map)\n",
    "    \n",
    "    # ONE-HOT ENCODE THE CATEGORIES AND REGION\n",
    "    category_df = pd.get_dummies(df['category'], prefix='Category')\n",
    "    df = df.drop('category', axis=1)\n",
    "    state_df = pd.get_dummies(df['state'], prefix='State')\n",
    "    df = df.drop('state', axis=1)\n",
    "    df = pd.concat([df, category_df, state_df], axis=1)\n",
    "\n",
    "    return df\n",
    "\n"
   ]
  },
  {
   "cell_type": "code",
   "execution_count": 8,
   "id": "1c9424d5",
   "metadata": {},
   "outputs": [
    {
     "data": {
      "text/html": [
       "<div>\n",
       "<style scoped>\n",
       "    .dataframe tbody tr th:only-of-type {\n",
       "        vertical-align: middle;\n",
       "    }\n",
       "\n",
       "    .dataframe tbody tr th {\n",
       "        vertical-align: top;\n",
       "    }\n",
       "\n",
       "    .dataframe thead th {\n",
       "        text-align: right;\n",
       "    }\n",
       "</style>\n",
       "<table border=\"1\" class=\"dataframe\">\n",
       "  <thead>\n",
       "    <tr style=\"text-align: right;\">\n",
       "      <th></th>\n",
       "      <th>category</th>\n",
       "      <th>amt</th>\n",
       "      <th>gender</th>\n",
       "      <th>state</th>\n",
       "      <th>zip</th>\n",
       "      <th>lat</th>\n",
       "      <th>long</th>\n",
       "      <th>city_pop</th>\n",
       "      <th>merch_lat</th>\n",
       "      <th>merch_long</th>\n",
       "      <th>is_fraud</th>\n",
       "      <th>hour</th>\n",
       "      <th>day_of_week</th>\n",
       "      <th>month</th>\n",
       "      <th>age</th>\n",
       "      <th>age_group</th>\n",
       "      <th>region</th>\n",
       "    </tr>\n",
       "  </thead>\n",
       "  <tbody>\n",
       "    <tr>\n",
       "      <th>0</th>\n",
       "      <td>Misc Online</td>\n",
       "      <td>4.97</td>\n",
       "      <td>F</td>\n",
       "      <td>NC</td>\n",
       "      <td>28654</td>\n",
       "      <td>36.0788</td>\n",
       "      <td>-81.1781</td>\n",
       "      <td>3495</td>\n",
       "      <td>36.011293</td>\n",
       "      <td>-82.048315</td>\n",
       "      <td>0</td>\n",
       "      <td>0</td>\n",
       "      <td>1</td>\n",
       "      <td>1</td>\n",
       "      <td>31</td>\n",
       "      <td>30-39</td>\n",
       "      <td>South</td>\n",
       "    </tr>\n",
       "    <tr>\n",
       "      <th>1</th>\n",
       "      <td>Grocery Inperson</td>\n",
       "      <td>107.23</td>\n",
       "      <td>F</td>\n",
       "      <td>WA</td>\n",
       "      <td>99160</td>\n",
       "      <td>48.8878</td>\n",
       "      <td>-118.2105</td>\n",
       "      <td>149</td>\n",
       "      <td>49.159047</td>\n",
       "      <td>-118.186462</td>\n",
       "      <td>0</td>\n",
       "      <td>0</td>\n",
       "      <td>1</td>\n",
       "      <td>1</td>\n",
       "      <td>41</td>\n",
       "      <td>40-49</td>\n",
       "      <td>West</td>\n",
       "    </tr>\n",
       "    <tr>\n",
       "      <th>2</th>\n",
       "      <td>Entertainment</td>\n",
       "      <td>220.11</td>\n",
       "      <td>M</td>\n",
       "      <td>ID</td>\n",
       "      <td>83252</td>\n",
       "      <td>42.1808</td>\n",
       "      <td>-112.2620</td>\n",
       "      <td>4154</td>\n",
       "      <td>43.150704</td>\n",
       "      <td>-112.154481</td>\n",
       "      <td>0</td>\n",
       "      <td>0</td>\n",
       "      <td>1</td>\n",
       "      <td>1</td>\n",
       "      <td>57</td>\n",
       "      <td>50-59</td>\n",
       "      <td>West</td>\n",
       "    </tr>\n",
       "    <tr>\n",
       "      <th>3</th>\n",
       "      <td>Gas</td>\n",
       "      <td>45.00</td>\n",
       "      <td>M</td>\n",
       "      <td>MT</td>\n",
       "      <td>59632</td>\n",
       "      <td>46.2306</td>\n",
       "      <td>-112.1138</td>\n",
       "      <td>1939</td>\n",
       "      <td>47.034331</td>\n",
       "      <td>-112.561071</td>\n",
       "      <td>0</td>\n",
       "      <td>0</td>\n",
       "      <td>1</td>\n",
       "      <td>1</td>\n",
       "      <td>52</td>\n",
       "      <td>50-59</td>\n",
       "      <td>West</td>\n",
       "    </tr>\n",
       "    <tr>\n",
       "      <th>4</th>\n",
       "      <td>Misc Inperson</td>\n",
       "      <td>41.96</td>\n",
       "      <td>M</td>\n",
       "      <td>VA</td>\n",
       "      <td>24433</td>\n",
       "      <td>38.4207</td>\n",
       "      <td>-79.4629</td>\n",
       "      <td>99</td>\n",
       "      <td>38.674999</td>\n",
       "      <td>-78.632459</td>\n",
       "      <td>0</td>\n",
       "      <td>0</td>\n",
       "      <td>1</td>\n",
       "      <td>1</td>\n",
       "      <td>33</td>\n",
       "      <td>30-39</td>\n",
       "      <td>South</td>\n",
       "    </tr>\n",
       "    <tr>\n",
       "      <th>...</th>\n",
       "      <td>...</td>\n",
       "      <td>...</td>\n",
       "      <td>...</td>\n",
       "      <td>...</td>\n",
       "      <td>...</td>\n",
       "      <td>...</td>\n",
       "      <td>...</td>\n",
       "      <td>...</td>\n",
       "      <td>...</td>\n",
       "      <td>...</td>\n",
       "      <td>...</td>\n",
       "      <td>...</td>\n",
       "      <td>...</td>\n",
       "      <td>...</td>\n",
       "      <td>...</td>\n",
       "      <td>...</td>\n",
       "      <td>...</td>\n",
       "    </tr>\n",
       "    <tr>\n",
       "      <th>1852389</th>\n",
       "      <td>Health/Fitness</td>\n",
       "      <td>43.77</td>\n",
       "      <td>M</td>\n",
       "      <td>MO</td>\n",
       "      <td>63453</td>\n",
       "      <td>40.4931</td>\n",
       "      <td>-91.8912</td>\n",
       "      <td>519</td>\n",
       "      <td>39.946837</td>\n",
       "      <td>-91.333331</td>\n",
       "      <td>0</td>\n",
       "      <td>23</td>\n",
       "      <td>3</td>\n",
       "      <td>12</td>\n",
       "      <td>54</td>\n",
       "      <td>50-59</td>\n",
       "      <td>Midwest</td>\n",
       "    </tr>\n",
       "    <tr>\n",
       "      <th>1852390</th>\n",
       "      <td>Kids/Pets</td>\n",
       "      <td>111.84</td>\n",
       "      <td>M</td>\n",
       "      <td>TX</td>\n",
       "      <td>77566</td>\n",
       "      <td>29.0393</td>\n",
       "      <td>-95.4401</td>\n",
       "      <td>28739</td>\n",
       "      <td>29.661049</td>\n",
       "      <td>-96.186633</td>\n",
       "      <td>0</td>\n",
       "      <td>23</td>\n",
       "      <td>3</td>\n",
       "      <td>12</td>\n",
       "      <td>21</td>\n",
       "      <td>20-29</td>\n",
       "      <td>South</td>\n",
       "    </tr>\n",
       "    <tr>\n",
       "      <th>1852391</th>\n",
       "      <td>Kids/Pets</td>\n",
       "      <td>86.88</td>\n",
       "      <td>F</td>\n",
       "      <td>WA</td>\n",
       "      <td>99323</td>\n",
       "      <td>46.1966</td>\n",
       "      <td>-118.9017</td>\n",
       "      <td>3684</td>\n",
       "      <td>46.658340</td>\n",
       "      <td>-119.715054</td>\n",
       "      <td>0</td>\n",
       "      <td>23</td>\n",
       "      <td>3</td>\n",
       "      <td>12</td>\n",
       "      <td>39</td>\n",
       "      <td>30-39</td>\n",
       "      <td>West</td>\n",
       "    </tr>\n",
       "    <tr>\n",
       "      <th>1852392</th>\n",
       "      <td>Travel</td>\n",
       "      <td>7.99</td>\n",
       "      <td>M</td>\n",
       "      <td>ID</td>\n",
       "      <td>83643</td>\n",
       "      <td>44.6255</td>\n",
       "      <td>-116.4493</td>\n",
       "      <td>129</td>\n",
       "      <td>44.470525</td>\n",
       "      <td>-117.080888</td>\n",
       "      <td>0</td>\n",
       "      <td>23</td>\n",
       "      <td>3</td>\n",
       "      <td>12</td>\n",
       "      <td>55</td>\n",
       "      <td>50-59</td>\n",
       "      <td>West</td>\n",
       "    </tr>\n",
       "    <tr>\n",
       "      <th>1852393</th>\n",
       "      <td>Entertainment</td>\n",
       "      <td>38.13</td>\n",
       "      <td>M</td>\n",
       "      <td>OK</td>\n",
       "      <td>73034</td>\n",
       "      <td>35.6665</td>\n",
       "      <td>-97.4798</td>\n",
       "      <td>116001</td>\n",
       "      <td>36.210097</td>\n",
       "      <td>-97.036372</td>\n",
       "      <td>0</td>\n",
       "      <td>23</td>\n",
       "      <td>3</td>\n",
       "      <td>12</td>\n",
       "      <td>27</td>\n",
       "      <td>20-29</td>\n",
       "      <td>South</td>\n",
       "    </tr>\n",
       "  </tbody>\n",
       "</table>\n",
       "<p>1852394 rows × 17 columns</p>\n",
       "</div>"
      ],
      "text/plain": [
       "                 category     amt gender state    zip      lat      long  \\\n",
       "0             Misc Online    4.97      F    NC  28654  36.0788  -81.1781   \n",
       "1        Grocery Inperson  107.23      F    WA  99160  48.8878 -118.2105   \n",
       "2           Entertainment  220.11      M    ID  83252  42.1808 -112.2620   \n",
       "3                     Gas   45.00      M    MT  59632  46.2306 -112.1138   \n",
       "4           Misc Inperson   41.96      M    VA  24433  38.4207  -79.4629   \n",
       "...                   ...     ...    ...   ...    ...      ...       ...   \n",
       "1852389    Health/Fitness   43.77      M    MO  63453  40.4931  -91.8912   \n",
       "1852390         Kids/Pets  111.84      M    TX  77566  29.0393  -95.4401   \n",
       "1852391         Kids/Pets   86.88      F    WA  99323  46.1966 -118.9017   \n",
       "1852392            Travel    7.99      M    ID  83643  44.6255 -116.4493   \n",
       "1852393     Entertainment   38.13      M    OK  73034  35.6665  -97.4798   \n",
       "\n",
       "         city_pop  merch_lat  merch_long  is_fraud  hour  day_of_week  month  \\\n",
       "0            3495  36.011293  -82.048315         0     0            1      1   \n",
       "1             149  49.159047 -118.186462         0     0            1      1   \n",
       "2            4154  43.150704 -112.154481         0     0            1      1   \n",
       "3            1939  47.034331 -112.561071         0     0            1      1   \n",
       "4              99  38.674999  -78.632459         0     0            1      1   \n",
       "...           ...        ...         ...       ...   ...          ...    ...   \n",
       "1852389       519  39.946837  -91.333331         0    23            3     12   \n",
       "1852390     28739  29.661049  -96.186633         0    23            3     12   \n",
       "1852391      3684  46.658340 -119.715054         0    23            3     12   \n",
       "1852392       129  44.470525 -117.080888         0    23            3     12   \n",
       "1852393    116001  36.210097  -97.036372         0    23            3     12   \n",
       "\n",
       "         age age_group   region  \n",
       "0         31     30-39    South  \n",
       "1         41     40-49     West  \n",
       "2         57     50-59     West  \n",
       "3         52     50-59     West  \n",
       "4         33     30-39    South  \n",
       "...      ...       ...      ...  \n",
       "1852389   54     50-59  Midwest  \n",
       "1852390   21     20-29    South  \n",
       "1852391   39     30-39     West  \n",
       "1852392   55     50-59     West  \n",
       "1852393   27     20-29    South  \n",
       "\n",
       "[1852394 rows x 17 columns]"
      ]
     },
     "execution_count": 8,
     "metadata": {},
     "output_type": "execute_result"
    }
   ],
   "source": [
    "# CREATE DATASET FOR EXPLORATORY DATA ANALYSIS PURPOSES\n",
    "fraud_df_eda = fraud_df.copy()\n",
    "eda_df_prep = EDA_data_preprocessing(fraud_df_eda)\n",
    "eda_df_prep"
   ]
  },
  {
   "cell_type": "code",
   "execution_count": 9,
   "id": "0fe4a754",
   "metadata": {},
   "outputs": [
    {
     "data": {
      "text/html": [
       "<div>\n",
       "<style scoped>\n",
       "    .dataframe tbody tr th:only-of-type {\n",
       "        vertical-align: middle;\n",
       "    }\n",
       "\n",
       "    .dataframe tbody tr th {\n",
       "        vertical-align: top;\n",
       "    }\n",
       "\n",
       "    .dataframe thead th {\n",
       "        text-align: right;\n",
       "    }\n",
       "</style>\n",
       "<table border=\"1\" class=\"dataframe\">\n",
       "  <thead>\n",
       "    <tr style=\"text-align: right;\">\n",
       "      <th></th>\n",
       "      <th>amt</th>\n",
       "      <th>zip</th>\n",
       "      <th>lat</th>\n",
       "      <th>long</th>\n",
       "      <th>city_pop</th>\n",
       "      <th>merch_lat</th>\n",
       "      <th>merch_long</th>\n",
       "      <th>is_fraud</th>\n",
       "      <th>gender_bin</th>\n",
       "      <th>hour</th>\n",
       "      <th>...</th>\n",
       "      <th>State_SD</th>\n",
       "      <th>State_TN</th>\n",
       "      <th>State_TX</th>\n",
       "      <th>State_UT</th>\n",
       "      <th>State_VA</th>\n",
       "      <th>State_VT</th>\n",
       "      <th>State_WA</th>\n",
       "      <th>State_WI</th>\n",
       "      <th>State_WV</th>\n",
       "      <th>State_WY</th>\n",
       "    </tr>\n",
       "  </thead>\n",
       "  <tbody>\n",
       "    <tr>\n",
       "      <th>0</th>\n",
       "      <td>4.97</td>\n",
       "      <td>28654</td>\n",
       "      <td>36.0788</td>\n",
       "      <td>-81.1781</td>\n",
       "      <td>3495</td>\n",
       "      <td>36.011293</td>\n",
       "      <td>-82.048315</td>\n",
       "      <td>0</td>\n",
       "      <td>0</td>\n",
       "      <td>0</td>\n",
       "      <td>...</td>\n",
       "      <td>0</td>\n",
       "      <td>0</td>\n",
       "      <td>0</td>\n",
       "      <td>0</td>\n",
       "      <td>0</td>\n",
       "      <td>0</td>\n",
       "      <td>0</td>\n",
       "      <td>0</td>\n",
       "      <td>0</td>\n",
       "      <td>0</td>\n",
       "    </tr>\n",
       "    <tr>\n",
       "      <th>1</th>\n",
       "      <td>107.23</td>\n",
       "      <td>99160</td>\n",
       "      <td>48.8878</td>\n",
       "      <td>-118.2105</td>\n",
       "      <td>149</td>\n",
       "      <td>49.159047</td>\n",
       "      <td>-118.186462</td>\n",
       "      <td>0</td>\n",
       "      <td>0</td>\n",
       "      <td>0</td>\n",
       "      <td>...</td>\n",
       "      <td>0</td>\n",
       "      <td>0</td>\n",
       "      <td>0</td>\n",
       "      <td>0</td>\n",
       "      <td>0</td>\n",
       "      <td>0</td>\n",
       "      <td>1</td>\n",
       "      <td>0</td>\n",
       "      <td>0</td>\n",
       "      <td>0</td>\n",
       "    </tr>\n",
       "    <tr>\n",
       "      <th>2</th>\n",
       "      <td>220.11</td>\n",
       "      <td>83252</td>\n",
       "      <td>42.1808</td>\n",
       "      <td>-112.2620</td>\n",
       "      <td>4154</td>\n",
       "      <td>43.150704</td>\n",
       "      <td>-112.154481</td>\n",
       "      <td>0</td>\n",
       "      <td>1</td>\n",
       "      <td>0</td>\n",
       "      <td>...</td>\n",
       "      <td>0</td>\n",
       "      <td>0</td>\n",
       "      <td>0</td>\n",
       "      <td>0</td>\n",
       "      <td>0</td>\n",
       "      <td>0</td>\n",
       "      <td>0</td>\n",
       "      <td>0</td>\n",
       "      <td>0</td>\n",
       "      <td>0</td>\n",
       "    </tr>\n",
       "    <tr>\n",
       "      <th>3</th>\n",
       "      <td>45.00</td>\n",
       "      <td>59632</td>\n",
       "      <td>46.2306</td>\n",
       "      <td>-112.1138</td>\n",
       "      <td>1939</td>\n",
       "      <td>47.034331</td>\n",
       "      <td>-112.561071</td>\n",
       "      <td>0</td>\n",
       "      <td>1</td>\n",
       "      <td>0</td>\n",
       "      <td>...</td>\n",
       "      <td>0</td>\n",
       "      <td>0</td>\n",
       "      <td>0</td>\n",
       "      <td>0</td>\n",
       "      <td>0</td>\n",
       "      <td>0</td>\n",
       "      <td>0</td>\n",
       "      <td>0</td>\n",
       "      <td>0</td>\n",
       "      <td>0</td>\n",
       "    </tr>\n",
       "    <tr>\n",
       "      <th>4</th>\n",
       "      <td>41.96</td>\n",
       "      <td>24433</td>\n",
       "      <td>38.4207</td>\n",
       "      <td>-79.4629</td>\n",
       "      <td>99</td>\n",
       "      <td>38.674999</td>\n",
       "      <td>-78.632459</td>\n",
       "      <td>0</td>\n",
       "      <td>1</td>\n",
       "      <td>0</td>\n",
       "      <td>...</td>\n",
       "      <td>0</td>\n",
       "      <td>0</td>\n",
       "      <td>0</td>\n",
       "      <td>0</td>\n",
       "      <td>1</td>\n",
       "      <td>0</td>\n",
       "      <td>0</td>\n",
       "      <td>0</td>\n",
       "      <td>0</td>\n",
       "      <td>0</td>\n",
       "    </tr>\n",
       "    <tr>\n",
       "      <th>...</th>\n",
       "      <td>...</td>\n",
       "      <td>...</td>\n",
       "      <td>...</td>\n",
       "      <td>...</td>\n",
       "      <td>...</td>\n",
       "      <td>...</td>\n",
       "      <td>...</td>\n",
       "      <td>...</td>\n",
       "      <td>...</td>\n",
       "      <td>...</td>\n",
       "      <td>...</td>\n",
       "      <td>...</td>\n",
       "      <td>...</td>\n",
       "      <td>...</td>\n",
       "      <td>...</td>\n",
       "      <td>...</td>\n",
       "      <td>...</td>\n",
       "      <td>...</td>\n",
       "      <td>...</td>\n",
       "      <td>...</td>\n",
       "      <td>...</td>\n",
       "    </tr>\n",
       "    <tr>\n",
       "      <th>1852389</th>\n",
       "      <td>43.77</td>\n",
       "      <td>63453</td>\n",
       "      <td>40.4931</td>\n",
       "      <td>-91.8912</td>\n",
       "      <td>519</td>\n",
       "      <td>39.946837</td>\n",
       "      <td>-91.333331</td>\n",
       "      <td>0</td>\n",
       "      <td>1</td>\n",
       "      <td>23</td>\n",
       "      <td>...</td>\n",
       "      <td>0</td>\n",
       "      <td>0</td>\n",
       "      <td>0</td>\n",
       "      <td>0</td>\n",
       "      <td>0</td>\n",
       "      <td>0</td>\n",
       "      <td>0</td>\n",
       "      <td>0</td>\n",
       "      <td>0</td>\n",
       "      <td>0</td>\n",
       "    </tr>\n",
       "    <tr>\n",
       "      <th>1852390</th>\n",
       "      <td>111.84</td>\n",
       "      <td>77566</td>\n",
       "      <td>29.0393</td>\n",
       "      <td>-95.4401</td>\n",
       "      <td>28739</td>\n",
       "      <td>29.661049</td>\n",
       "      <td>-96.186633</td>\n",
       "      <td>0</td>\n",
       "      <td>1</td>\n",
       "      <td>23</td>\n",
       "      <td>...</td>\n",
       "      <td>0</td>\n",
       "      <td>0</td>\n",
       "      <td>1</td>\n",
       "      <td>0</td>\n",
       "      <td>0</td>\n",
       "      <td>0</td>\n",
       "      <td>0</td>\n",
       "      <td>0</td>\n",
       "      <td>0</td>\n",
       "      <td>0</td>\n",
       "    </tr>\n",
       "    <tr>\n",
       "      <th>1852391</th>\n",
       "      <td>86.88</td>\n",
       "      <td>99323</td>\n",
       "      <td>46.1966</td>\n",
       "      <td>-118.9017</td>\n",
       "      <td>3684</td>\n",
       "      <td>46.658340</td>\n",
       "      <td>-119.715054</td>\n",
       "      <td>0</td>\n",
       "      <td>0</td>\n",
       "      <td>23</td>\n",
       "      <td>...</td>\n",
       "      <td>0</td>\n",
       "      <td>0</td>\n",
       "      <td>0</td>\n",
       "      <td>0</td>\n",
       "      <td>0</td>\n",
       "      <td>0</td>\n",
       "      <td>1</td>\n",
       "      <td>0</td>\n",
       "      <td>0</td>\n",
       "      <td>0</td>\n",
       "    </tr>\n",
       "    <tr>\n",
       "      <th>1852392</th>\n",
       "      <td>7.99</td>\n",
       "      <td>83643</td>\n",
       "      <td>44.6255</td>\n",
       "      <td>-116.4493</td>\n",
       "      <td>129</td>\n",
       "      <td>44.470525</td>\n",
       "      <td>-117.080888</td>\n",
       "      <td>0</td>\n",
       "      <td>1</td>\n",
       "      <td>23</td>\n",
       "      <td>...</td>\n",
       "      <td>0</td>\n",
       "      <td>0</td>\n",
       "      <td>0</td>\n",
       "      <td>0</td>\n",
       "      <td>0</td>\n",
       "      <td>0</td>\n",
       "      <td>0</td>\n",
       "      <td>0</td>\n",
       "      <td>0</td>\n",
       "      <td>0</td>\n",
       "    </tr>\n",
       "    <tr>\n",
       "      <th>1852393</th>\n",
       "      <td>38.13</td>\n",
       "      <td>73034</td>\n",
       "      <td>35.6665</td>\n",
       "      <td>-97.4798</td>\n",
       "      <td>116001</td>\n",
       "      <td>36.210097</td>\n",
       "      <td>-97.036372</td>\n",
       "      <td>0</td>\n",
       "      <td>1</td>\n",
       "      <td>23</td>\n",
       "      <td>...</td>\n",
       "      <td>0</td>\n",
       "      <td>0</td>\n",
       "      <td>0</td>\n",
       "      <td>0</td>\n",
       "      <td>0</td>\n",
       "      <td>0</td>\n",
       "      <td>0</td>\n",
       "      <td>0</td>\n",
       "      <td>0</td>\n",
       "      <td>0</td>\n",
       "    </tr>\n",
       "  </tbody>\n",
       "</table>\n",
       "<p>1852394 rows × 78 columns</p>\n",
       "</div>"
      ],
      "text/plain": [
       "            amt    zip      lat      long  city_pop  merch_lat  merch_long  \\\n",
       "0          4.97  28654  36.0788  -81.1781      3495  36.011293  -82.048315   \n",
       "1        107.23  99160  48.8878 -118.2105       149  49.159047 -118.186462   \n",
       "2        220.11  83252  42.1808 -112.2620      4154  43.150704 -112.154481   \n",
       "3         45.00  59632  46.2306 -112.1138      1939  47.034331 -112.561071   \n",
       "4         41.96  24433  38.4207  -79.4629        99  38.674999  -78.632459   \n",
       "...         ...    ...      ...       ...       ...        ...         ...   \n",
       "1852389   43.77  63453  40.4931  -91.8912       519  39.946837  -91.333331   \n",
       "1852390  111.84  77566  29.0393  -95.4401     28739  29.661049  -96.186633   \n",
       "1852391   86.88  99323  46.1966 -118.9017      3684  46.658340 -119.715054   \n",
       "1852392    7.99  83643  44.6255 -116.4493       129  44.470525 -117.080888   \n",
       "1852393   38.13  73034  35.6665  -97.4798    116001  36.210097  -97.036372   \n",
       "\n",
       "         is_fraud  gender_bin  hour  ...  State_SD  State_TN  State_TX  \\\n",
       "0               0           0     0  ...         0         0         0   \n",
       "1               0           0     0  ...         0         0         0   \n",
       "2               0           1     0  ...         0         0         0   \n",
       "3               0           1     0  ...         0         0         0   \n",
       "4               0           1     0  ...         0         0         0   \n",
       "...           ...         ...   ...  ...       ...       ...       ...   \n",
       "1852389         0           1    23  ...         0         0         0   \n",
       "1852390         0           1    23  ...         0         0         1   \n",
       "1852391         0           0    23  ...         0         0         0   \n",
       "1852392         0           1    23  ...         0         0         0   \n",
       "1852393         0           1    23  ...         0         0         0   \n",
       "\n",
       "         State_UT  State_VA  State_VT  State_WA  State_WI  State_WV  State_WY  \n",
       "0               0         0         0         0         0         0         0  \n",
       "1               0         0         0         1         0         0         0  \n",
       "2               0         0         0         0         0         0         0  \n",
       "3               0         0         0         0         0         0         0  \n",
       "4               0         1         0         0         0         0         0  \n",
       "...           ...       ...       ...       ...       ...       ...       ...  \n",
       "1852389         0         0         0         0         0         0         0  \n",
       "1852390         0         0         0         0         0         0         0  \n",
       "1852391         0         0         0         1         0         0         0  \n",
       "1852392         0         0         0         0         0         0         0  \n",
       "1852393         0         0         0         0         0         0         0  \n",
       "\n",
       "[1852394 rows x 78 columns]"
      ]
     },
     "execution_count": 9,
     "metadata": {},
     "output_type": "execute_result"
    }
   ],
   "source": [
    "# CREATE DATASET FOR MACHINE LEARNING PURPOSES\n",
    "fraud_df_ML = fraud_df.copy()\n",
    "ML_df_prep = ML_data_preprocessing(fraud_df_ML)\n",
    "ML_df_prep"
   ]
  },
  {
   "cell_type": "code",
   "execution_count": null,
   "id": "4d0b4b3d",
   "metadata": {},
   "outputs": [],
   "source": []
  },
  {
   "cell_type": "markdown",
   "id": "d081c5f6",
   "metadata": {},
   "source": [
    "# Exploratory Data Analysis"
   ]
  },
  {
   "cell_type": "code",
   "execution_count": null,
   "id": "b8d3fb54",
   "metadata": {
    "scrolled": false
   },
   "outputs": [],
   "source": [
    "# Explore insights on state and region\n",
    "region_groups = eda_df_prep.groupby(['region'])['is_fraud'].sum()\n",
    "region_groups = region_groups.sort_values()\n",
    "xAxis = region_groups.index\n",
    "yAxis = region_groups.values\n",
    "plt.bar(xAxis,yAxis)\n",
    "plt.title('Fraud in each Region')\n",
    "plt.xlabel('Region')\n",
    "plt.ylabel('Number of Fraud Transactions')\n",
    "plt.show()\n",
    "\n",
    "region_groups = eda_df_prep.groupby(['region'])['region'].count()\n",
    "region_groups = region_groups.sort_values()\n",
    "xAxis = region_groups.index\n",
    "yAxis = region_groups.values\n",
    "plt.bar(xAxis,yAxis)\n",
    "plt.title('Population in each Region')\n",
    "plt.xlabel('Region')\n",
    "plt.ylabel('Population')\n",
    "plt.show()\n",
    "\n",
    "state_groups = eda_df_prep.groupby(['state'])['is_fraud'].sum()\n",
    "# city_pop = eda_df_prep.groupby(['state'])['city_pop'].sum()\n",
    "# state_groups = state_groups / city_pop\n",
    "# state_groups = state_groups.sort_values()\n",
    "# median_value = state_groups.median()\n",
    "xAxis = state_groups.index\n",
    "yAxis = state_groups.values\n",
    "plt.figure(figsize=(12, 12))\n",
    "plt.barh(xAxis,yAxis)\n",
    "plt.title('Fraud in each state')\n",
    "plt.ylabel('State')\n",
    "plt.xlabel('Number of Fraud Transactions')\n",
    "plt.show()\n",
    "\n",
    "state_groups = eda_df_prep.groupby(['state'])['state'].count()\n",
    "# city_pop = eda_df_prep.groupby(['state'])['city_pop'].sum()\n",
    "# state_groups = state_groups / city_pop\n",
    "# state_groups = state_groups.sort_values()\n",
    "# median_value = state_groups.median()\n",
    "xAxis = state_groups.index\n",
    "yAxis = state_groups.values\n",
    "plt.figure(figsize=(12, 12))\n",
    "plt.barh(xAxis,yAxis)\n",
    "plt.title('Population in each state')\n",
    "plt.ylabel('State')\n",
    "plt.xlabel('Population')\n",
    "plt.show()"
   ]
  },
  {
   "cell_type": "code",
   "execution_count": null,
   "id": "9a892448",
   "metadata": {},
   "outputs": [],
   "source": [
    "# Explore insights on transaction category\n",
    "region_groups = eda_df_prep.groupby(['category'])['is_fraud'].sum()\n",
    "region_groups\n",
    "region_groups = region_groups.sort_values()\n",
    "xAxis = region_groups.index\n",
    "yAxis = region_groups.values\n",
    "\n",
    "plt.figure(figsize=(10, 10))\n",
    "plt.rcParams.update({'font.size': 14})\n",
    "plt.barh(xAxis,yAxis)\n",
    "plt.title('Fraud in each category')\n",
    "plt.ylabel('Transaction Category')\n",
    "plt.xlabel('Number of Fraud Transactions')\n",
    "\n",
    "SMALL_SIZE = 8\n",
    "MEDIUM_SIZE = 10\n",
    "BIGGER_SIZE = 18\n",
    "\n",
    "# # plt.rc('font', size=SMALL_SIZE)          # controls default text sizes\n",
    "# plt.rc('axes', titlesize=BIGGER_SIZE)     # fontsize of the axes title\n",
    "# plt.rc('axes', labelsize=BIGGER_SIZE)    # fontsize of the x and y labels\n",
    "# plt.rc('xtick', labelsize=MEDIUM_SIZE)    # fontsize of the tick labels\n",
    "# plt.rc('ytick', labelsize=MEDIUM_SIZE)    # fontsize of the tick labels\n",
    "# # plt.rc('legend', fontsize=SMALL_SIZE)    # legend fontsize\n",
    "# plt.rc('figure', titlesize=BIGGER_SIZE)  # fontsize of the figure title\n",
    "\n",
    "plt.show()"
   ]
  },
  {
   "cell_type": "code",
   "execution_count": null,
   "id": "c8a834de",
   "metadata": {
    "scrolled": false
   },
   "outputs": [],
   "source": [
    "# Explore insights on age category\n",
    "# amounts = eda_df_prep['age']\n",
    "# labels = eda_df_prep['is_fraud']\n",
    "# plt.figure(figsize=(10,5))\n",
    "# plt.scatter(amounts, labels)\n",
    "\n",
    "# ages = eda_df_prep.groupby(['age_group']).counts()\n",
    "\n",
    "age_groups = eda_df_prep.groupby(['age_group'])['is_fraud'].sum()\n",
    "# age_groups = age_groups.sort_values()\n",
    "xAxis = age_groups.index\n",
    "yAxis = age_groups.values\n",
    "\n",
    "plt.figure(figsize=(8, 8))\n",
    "plt.rcParams.update({'font.size': 14})\n",
    "plt.barh(xAxis,yAxis)\n",
    "plt.title('Fraud vs. Age Group')\n",
    "plt.ylabel('Age Group')\n",
    "plt.xlabel('Number of Fraud Transactions')"
   ]
  },
  {
   "cell_type": "code",
   "execution_count": null,
   "id": "1f1dbe7b",
   "metadata": {},
   "outputs": [],
   "source": [
    "ages = eda_df_prep.groupby(['age_group'])['age_group'].count()\n",
    "\n",
    "\n",
    "xAxis = ages.index\n",
    "yAxis = ages.values\n",
    "\n",
    "plt.figure(figsize=(8, 8))\n",
    "plt.rcParams.update({'font.size': 14})\n",
    "plt.barh(xAxis,yAxis)\n",
    "plt.title('Population in Age Group')\n",
    "plt.ylabel('Age Group')\n",
    "plt.xlabel('Population Size')"
   ]
  },
  {
   "cell_type": "code",
   "execution_count": null,
   "id": "17b99ee0",
   "metadata": {},
   "outputs": [],
   "source": [
    "# Explore insights on amount category\n",
    "amt_groups = eda_df_prep.groupby(['is_fraud'])\n",
    "fraud_group = amt_groups.get_group(1)\n",
    "non_fraud_group = amt_groups.get_group(0)\n",
    "\n",
    "my_dict = {'Fraud': fraud_group['amt'], 'Not Fraud': non_fraud_group['amt']}\n",
    "\n",
    "plt.rcParams.update({'font.size': 14})\n",
    "fig, ax = plt.subplots(figsize=(9,4))\n",
    "ax.boxplot(my_dict.values(), vert=False)\n",
    "ax.set_yticklabels(my_dict.keys())\n",
    "ax.set_xlabel('Transaction Amount')"
   ]
  },
  {
   "cell_type": "code",
   "execution_count": null,
   "id": "be35f51a",
   "metadata": {},
   "outputs": [],
   "source": [
    "# Explore insights on month category\n",
    "month_groups = eda_df_prep.groupby(['month'])['is_fraud'].sum()\n",
    "xAxis = [\"Jan\",\"Feb\",\"Mar\",\"Apr\",\"May\",\"Jun\",\"Jul\",\"Aug\",\"Sep\",\"Oct\",\"Nov\",\"Dec\"]\n",
    "yAxis = month_groups.values\n",
    "plt.figure(figsize=(8,4))\n",
    "plt.bar(xAxis,yAxis)\n",
    "plt.title('Number of Frauds vs. Month')\n",
    "plt.xlabel('Month')\n",
    "plt.ylabel('Number of Fraud Transactions')\n",
    "plt.xticks(range(0, 12))\n",
    "plt.show()"
   ]
  },
  {
   "cell_type": "code",
   "execution_count": null,
   "id": "d5bc7599",
   "metadata": {},
   "outputs": [],
   "source": [
    "# Explore insights on day of week category\n",
    "dow_groups = eda_df_prep.groupby(['day_of_week'])['is_fraud'].sum()\n",
    "xAxis = [\"Mon\", \"Tue\", \"Wed\", \"Thur\", \"Fri\", \"Sat\", \"Sun\"]\n",
    "yAxis = dow_groups.values\n",
    "plt.figure(figsize=(8, 4))\n",
    "plt.bar(xAxis,yAxis)\n",
    "plt.title('Number of Frauds vs. Day of Week')\n",
    "plt.xlabel('Day of Week')\n",
    "plt.ylabel('Number of Fraud Transactions')\n",
    "# plt.xticks(range(1, 13))\n",
    "plt.show()"
   ]
  },
  {
   "cell_type": "code",
   "execution_count": null,
   "id": "13dca30b",
   "metadata": {},
   "outputs": [],
   "source": [
    "# Explore insights on hour category\n",
    "hour_groups = eda_df_prep.groupby(['hour'])['is_fraud'].sum()\n",
    "xAxis = hour_groups.index\n",
    "yAxis = hour_groups.values\n",
    "plt.figure(figsize=(9, 5))\n",
    "plt.bar(xAxis,yAxis)\n",
    "plt.title('Number of Frauds vs. Hour')\n",
    "plt.xlabel('Hour')\n",
    "plt.ylabel('Number of Fraud Transactions')\n",
    "plt.xticks(range(0,24))\n",
    "plt.show()"
   ]
  },
  {
   "cell_type": "code",
   "execution_count": null,
   "id": "ac19d475",
   "metadata": {},
   "outputs": [],
   "source": [
    "# Explore insights on Transaction distance category\n",
    "trans_distance = (eda_df_prep['lat']-eda_df_prep['merch_lat'])**2 + (eda_df_prep['long']-eda_df_prep['merch_long'])**2\n",
    "print(\"Completed Processing\")\n",
    "xAxis = trans_distance\n",
    "yAxis = eda_df_prep['is_fraud']\n",
    "plt.figure(figsize=(8, 4))\n",
    "plt.scatter(xAxis, yAxis)\n",
    "plt.title('Is Fraud vs. Transaction Distance')\n",
    "plt.xlabel('Transaction Distance')\n",
    "plt.ylabel('Is Fraud')\n",
    "plt.show()"
   ]
  },
  {
   "cell_type": "code",
   "execution_count": null,
   "id": "e329b4c0",
   "metadata": {},
   "outputs": [],
   "source": [
    "# Explore insights on gender category\n",
    "gender_groups = eda_df_prep.groupby(['gender'])['is_fraud'].sum()\n",
    "# region_groups = region_groups.sort_values()\n",
    "labels = gender_groups.index\n",
    "sizes = gender_groups.values\n",
    "explode = (0, 0)  # only \"explode\" the 2nd slice (i.e. 'Hogs')\n",
    "\n",
    "# plt.figure(figsize=(10,10))\n",
    "fig1, ax1 = plt.subplots(figsize=(5, 5))\n",
    "# plt.rc('font', size=15)          # controls default text sizes\n",
    "# plt.rc('legend', fontsize=25)    # legend fontsize\n",
    "ax1.pie(sizes, explode=explode, labels=labels, shadow=True, autopct='%1.1f%%', startangle=90, textprops={'fontsize': 15})\n",
    "ax1.axis('equal')  # Equal aspect ratio ensures that pie is drawn as a circle.\n",
    "plt.title(\"Gender Split in Fraudulent Transactions\")\n",
    "\n",
    "\n",
    "plt.show()"
   ]
  },
  {
   "cell_type": "code",
   "execution_count": null,
   "id": "32aa3a94",
   "metadata": {},
   "outputs": [],
   "source": [
    "# Explore insights on city_pop category\n",
    "population = eda_df_prep['city_pop']\n",
    "labels = eda_df_prep['is_fraud']\n",
    "plt.figure(figsize=(10,5))\n",
    "plt.scatter(population, labels)"
   ]
  },
  {
   "cell_type": "code",
   "execution_count": null,
   "id": "166c67f7",
   "metadata": {},
   "outputs": [],
   "source": []
  },
  {
   "cell_type": "code",
   "execution_count": null,
   "id": "70069ae2",
   "metadata": {},
   "outputs": [],
   "source": []
  },
  {
   "cell_type": "code",
   "execution_count": null,
   "id": "3ba30fd7",
   "metadata": {},
   "outputs": [],
   "source": []
  },
  {
   "cell_type": "markdown",
   "id": "09ae0820",
   "metadata": {},
   "source": [
    "# Machine Learning Models"
   ]
  },
  {
   "cell_type": "code",
   "execution_count": 10,
   "id": "6d673229",
   "metadata": {},
   "outputs": [],
   "source": [
    "def resampling(df):\n",
    "    # RESAMPLE THE DATA TO MITIGATE IMBALANCE\n",
    "\n",
    "    df_majority = df[df['is_fraud'] == 0] # Filters minorities and keeps majority class labels\n",
    "    df_minority = df[df['is_fraud'] == 1] # Filters majorities and keeps minority class labels\n",
    "\n",
    "    # Upsample minority class\n",
    "    df_minority_upsampled = resample(df_minority, \n",
    "                                     replace=True,     # sample with replacement\n",
    "                                     n_samples=25000)    # to match majority class\n",
    "\n",
    "    # Undersample majority class\n",
    "    df_majority_undersampled = resample(df_majority, \n",
    "                                     replace=True,     # sample with replacement\n",
    "                                     n_samples=25000)    # to match majority class\n",
    "\n",
    "    # Combine majority class with upsampled minority class\n",
    "    df_resampled = pd.concat([df_majority_undersampled, df_minority_upsampled])\n",
    "    \n",
    "    return df_resampled\n"
   ]
  },
  {
   "cell_type": "code",
   "execution_count": 11,
   "id": "879b08ea",
   "metadata": {},
   "outputs": [],
   "source": [
    "ML_df_resampled = resampling(ML_df_prep)"
   ]
  },
  {
   "cell_type": "code",
   "execution_count": 12,
   "id": "f873db14",
   "metadata": {
    "scrolled": true
   },
   "outputs": [
    {
     "data": {
      "text/plain": [
       "0    25000\n",
       "1    25000\n",
       "Name: is_fraud, dtype: int64"
      ]
     },
     "execution_count": 12,
     "metadata": {},
     "output_type": "execute_result"
    }
   ],
   "source": [
    "ML_df_resampled['is_fraud'].value_counts()"
   ]
  },
  {
   "cell_type": "code",
   "execution_count": 13,
   "id": "41a5a6ea",
   "metadata": {},
   "outputs": [
    {
     "data": {
      "image/png": "[encoded data removed]",
      "text/plain": [
       "<Figure size 360x360 with 1 Axes>"
      ]
     },
     "metadata": {},
     "output_type": "display_data"
    }
   ],
   "source": [
    "# Explore balanced data\n",
    "data_balance_group = ML_df_resampled['is_fraud'].value_counts()\n",
    "# region_groups = region_groups.sort_values()\n",
    "labels = ['Non-Fraud', 'Fraud']\n",
    "colors = ['#ADD8E6', '#FFD580']\n",
    "sizes = data_balance_group.values\n",
    "explode = (0, 0)  # only \"explode\" the 2nd slice (i.e. 'Hogs')\n",
    "\n",
    "# plt.figure(figsize=(10,10))\n",
    "fig1, ax1 = plt.subplots(figsize=(5, 5))\n",
    "# plt.rc('font', size=15)          # controls default text sizes\n",
    "# plt.rc('legend', fontsize=25)    # legend fontsize\n",
    "ax1.pie(sizes, explode=explode, labels=labels, shadow=True, autopct='%1.1f%%', startangle=90, textprops={'fontsize': 15})\n",
    "ax1.axis('equal')  # Equal aspect ratio ensures that pie is drawn as a circle.\n",
    "plt.title(\"Fraud/Non-Fraud Split\")\n",
    "\n",
    "\n",
    "plt.show()"
   ]
  },
  {
   "cell_type": "code",
   "execution_count": 14,
   "id": "437a3c76",
   "metadata": {},
   "outputs": [
    {
     "name": "stdout",
     "output_type": "stream",
     "text": [
      "Train data: (35000, 77) (35000,)\n",
      "Test data: (15000, 77) (15000,)\n"
     ]
    }
   ],
   "source": [
    "y = ML_df_resampled['is_fraud']\n",
    "X = ML_df_resampled.drop('is_fraud', axis=1)\n",
    "\n",
    "\n",
    "\n",
    "# PERFORM 70-30 SPLIT\n",
    "X_train, X_test, y_train, y_test = train_test_split(X, y, test_size=0.3, stratify=y)\n",
    "\n",
    "print(\"Train data:\",  X_train.shape, y_train.shape)\n",
    "print(\"Test data:\",  X_test.shape, y_test.shape)\n",
    "\n",
    "# imb_resampler = SMOTE()\n",
    "# X_train_resampled, y_train_resampled = imb_resampler.fit_resample(X_train, y_train)"
   ]
  },
  {
   "cell_type": "code",
   "execution_count": 15,
   "id": "2941fdc2",
   "metadata": {},
   "outputs": [],
   "source": [
    "def evaluate_model(model, X_train, X_test, y_train, y_test):\n",
    "    model.fit(X_train, y_train)\n",
    "\n",
    "    y_pred = model.predict(X_test)\n",
    "\n",
    "    cm = confusion_matrix(y_test, y_pred)\n",
    "    plt.figure(figsize=(5, 3))\n",
    "    sns.heatmap(cm, annot=True, fmt='d')\n",
    "    plt.title('Test Confusion Matrix')\n",
    "    plt.show()\n",
    "\n",
    "    tn, fp, fn, tp = cm.ravel()\n",
    "    tn, fp, fn, tp\n",
    "    p = tp/(tp+fp)\n",
    "    r = tp/(tp+fn)\n",
    "    print('Test Accuracy: ', accuracy_score(y_test, y_pred))\n",
    "    print(\"Precision Score:\", p)\n",
    "    print(\"Recall Score:\", r)\n",
    "    print(\"F1 Score:\", (2*p*r)/(p+r))"
   ]
  },
  {
   "cell_type": "code",
   "execution_count": 16,
   "id": "4e464a08",
   "metadata": {},
   "outputs": [
    {
     "name": "stderr",
     "output_type": "stream",
     "text": [
      "C:\\Users\\Adam Yang\\anaconda3\\lib\\site-packages\\sklearn\\linear_model\\_sag.py:350: ConvergenceWarning: The max_iter was reached which means the coef_ did not converge\n",
      "  warnings.warn(\n"
     ]
    },
    {
     "data": {
      "image/png": "[encoded data removed]",
      "text/plain": [
       "<Figure size 360x216 with 2 Axes>"
      ]
     },
     "metadata": {
      "needs_background": "light"
     },
     "output_type": "display_data"
    },
    {
     "name": "stdout",
     "output_type": "stream",
     "text": [
      "Test Accuracy:  0.7751333333333333\n",
      "Precision Score: 0.8511145142079292\n",
      "Recall Score: 0.6669333333333334\n",
      "F1 Score: 0.7478507886671151\n"
     ]
    }
   ],
   "source": [
    "# LOGISTIC REGRESSION MODEL\n",
    "log_clf = LogisticRegression(solver='sag')\n",
    "evaluate_model(log_clf, X_train, X_test, y_train, y_test)"
   ]
  },
  {
   "cell_type": "code",
   "execution_count": 30,
   "id": "0e4af1cf",
   "metadata": {
    "scrolled": true
   },
   "outputs": [
    {
     "name": "stderr",
     "output_type": "stream",
     "text": [
      "[Parallel(n_jobs=1)]: Using backend SequentialBackend with 1 concurrent workers.\n",
      "[Parallel(n_jobs=1)]: Done   1 out of   1 | elapsed:    0.0s remaining:    0.0s\n"
     ]
    },
    {
     "name": "stdout",
     "output_type": "stream",
     "text": [
      "building tree 1 of 100\n",
      "building tree 2 of 100\n",
      "building tree 3 of 100\n",
      "building tree 4 of 100\n",
      "building tree 5 of 100\n",
      "building tree 6 of 100\n",
      "building tree 7 of 100\n",
      "building tree 8 of 100\n",
      "building tree 9 of 100\n",
      "building tree 10 of 100\n",
      "building tree 11 of 100\n",
      "building tree 12 of 100\n",
      "building tree 13 of 100\n",
      "building tree 14 of 100\n",
      "building tree 15 of 100\n",
      "building tree 16 of 100\n",
      "building tree 17 of 100\n",
      "building tree 18 of 100\n",
      "building tree 19 of 100\n",
      "building tree 20 of 100\n",
      "building tree 21 of 100\n",
      "building tree 22 of 100\n",
      "building tree 23 of 100\n",
      "building tree 24 of 100\n",
      "building tree 25 of 100\n",
      "building tree 26 of 100\n",
      "building tree 27 of 100\n",
      "building tree 28 of 100\n",
      "building tree 29 of 100\n",
      "building tree 30 of 100\n",
      "building tree 31 of 100\n",
      "building tree 32 of 100\n",
      "building tree 33 of 100\n",
      "building tree 34 of 100\n",
      "building tree 35 of 100\n",
      "building tree 36 of 100\n",
      "building tree 37 of 100\n",
      "building tree 38 of 100\n",
      "building tree 39 of 100\n",
      "building tree 40 of 100\n",
      "building tree 41 of 100\n",
      "building tree 42 of 100\n",
      "building tree 43 of 100\n",
      "building tree 44 of 100\n",
      "building tree 45 of 100\n",
      "building tree 46 of 100\n",
      "building tree 47 of 100\n",
      "building tree 48 of 100\n",
      "building tree 49 of 100\n",
      "building tree 50 of 100\n",
      "building tree 51 of 100\n",
      "building tree 52 of 100\n",
      "building tree 53 of 100\n",
      "building tree 54 of 100\n",
      "building tree 55 of 100\n",
      "building tree 56 of 100\n",
      "building tree 57 of 100\n",
      "building tree 58 of 100\n",
      "building tree 59 of 100\n",
      "building tree 60 of 100\n",
      "building tree 61 of 100\n",
      "building tree 62 of 100\n",
      "building tree 63 of 100\n",
      "building tree 64 of 100\n",
      "building tree 65 of 100\n",
      "building tree 66 of 100\n",
      "building tree 67 of 100\n",
      "building tree 68 of 100\n",
      "building tree 69 of 100\n",
      "building tree 70 of 100\n",
      "building tree 71 of 100\n",
      "building tree 72 of 100\n",
      "building tree 73 of 100\n",
      "building tree 74 of 100\n",
      "building tree 75 of 100\n",
      "building tree 76 of 100\n",
      "building tree 77 of 100\n",
      "building tree 78 of 100\n",
      "building tree 79 of 100\n",
      "building tree 80 of 100\n",
      "building tree 81 of 100\n",
      "building tree 82 of 100\n",
      "building tree 83 of 100\n",
      "building tree 84 of 100\n",
      "building tree 85 of 100\n",
      "building tree 86 of 100\n",
      "building tree 87 of 100\n",
      "building tree 88 of 100\n",
      "building tree 89 of 100\n",
      "building tree 90 of 100\n",
      "building tree 91 of 100\n",
      "building tree 92 of 100\n",
      "building tree 93 of 100\n",
      "building tree 94 of 100\n",
      "building tree 95 of 100\n",
      "building tree 96 of 100\n",
      "building tree 97 of 100\n",
      "building tree 98 of 100\n",
      "building tree 99 of 100\n",
      "building tree 100 of 100\n"
     ]
    },
    {
     "name": "stderr",
     "output_type": "stream",
     "text": [
      "[Parallel(n_jobs=1)]: Done 100 out of 100 | elapsed:    6.7s finished\n",
      "[Parallel(n_jobs=1)]: Using backend SequentialBackend with 1 concurrent workers.\n",
      "[Parallel(n_jobs=1)]: Done   1 out of   1 | elapsed:    0.0s remaining:    0.0s\n",
      "[Parallel(n_jobs=1)]: Done 100 out of 100 | elapsed:    0.3s finished\n"
     ]
    },
    {
     "data": {
      "image/png": "[encoded data removed]",
      "text/plain": [
       "<Figure size 360x216 with 2 Axes>"
      ]
     },
     "metadata": {
      "needs_background": "light"
     },
     "output_type": "display_data"
    },
    {
     "name": "stdout",
     "output_type": "stream",
     "text": [
      "Test Accuracy:  0.9889333333333333\n",
      "Precision Score: 0.9856953642384106\n",
      "Recall Score: 0.9922666666666666\n",
      "F1 Score: 0.9889700996677739\n"
     ]
    }
   ],
   "source": [
    "# RANDOM FOREST MODEL\n",
    "random_forest_clf = RandomForestClassifier(max_depth=100, min_samples_split=3, verbose=2)\n",
    "evaluate_model(random_forest_clf, X_train, X_test, y_train, y_test)"
   ]
  },
  {
   "cell_type": "code",
   "execution_count": 18,
   "id": "fabdd55a",
   "metadata": {
    "scrolled": true
   },
   "outputs": [
    {
     "name": "stdout",
     "output_type": "stream",
     "text": [
      "[LibSVM]"
     ]
    },
    {
     "data": {
      "image/png": "[encoded data removed]",
      "text/plain": [
       "<Figure size 360x216 with 2 Axes>"
      ]
     },
     "metadata": {
      "needs_background": "light"
     },
     "output_type": "display_data"
    },
    {
     "name": "stdout",
     "output_type": "stream",
     "text": [
      "Test Accuracy:  0.5348666666666667\n",
      "Precision Score: 0.5345853723052506\n",
      "Recall Score: 0.5389333333333334\n",
      "F1 Score: 0.5367505477723923\n"
     ]
    }
   ],
   "source": [
    "# SUPPORT VECTOR MACHINE MODEL\n",
    "svm_clf = svm.SVC(verbose=True)\n",
    "evaluate_model(svm_clf, X_train, X_test, y_train, y_test)"
   ]
  },
  {
   "cell_type": "code",
   "execution_count": 19,
   "id": "73c51d72",
   "metadata": {},
   "outputs": [
    {
     "data": {
      "image/png": "[encoded data removed]",
      "text/plain": [
       "<Figure size 360x216 with 2 Axes>"
      ]
     },
     "metadata": {
      "needs_background": "light"
     },
     "output_type": "display_data"
    },
    {
     "name": "stdout",
     "output_type": "stream",
     "text": [
      "Test Accuracy:  0.8948666666666667\n",
      "Precision Score: 0.8947087831534053\n",
      "Recall Score: 0.8950666666666667\n",
      "F1 Score: 0.8948876891288409\n"
     ]
    }
   ],
   "source": [
    "# K-NEAREST NEIGHBORS\n",
    "knn_clf = KNeighborsClassifier(n_neighbors=5)\n",
    "evaluate_model(knn_clf, X_train, X_test, y_train, y_test)"
   ]
  },
  {
   "cell_type": "code",
   "execution_count": 20,
   "id": "b36c5582",
   "metadata": {},
   "outputs": [
    {
     "data": {
      "image/png": "[encoded data removed]",
      "text/plain": [
       "<Figure size 360x216 with 2 Axes>"
      ]
     },
     "metadata": {
      "needs_background": "light"
     },
     "output_type": "display_data"
    },
    {
     "name": "stdout",
     "output_type": "stream",
     "text": [
      "Test Accuracy:  0.8064\n",
      "Precision Score: 0.8300775639184143\n",
      "Recall Score: 0.7705333333333333\n",
      "F1 Score: 0.7991978979394274\n"
     ]
    }
   ],
   "source": [
    "# DEEP LEARNING MODEL\n",
    "mlp_clf = MLPClassifier(random_state=1, max_iter=300)\n",
    "evaluate_model(mlp_clf, X_train, X_test, y_train, y_test)"
   ]
  },
  {
   "cell_type": "code",
   "execution_count": 29,
   "id": "4a9bd94b",
   "metadata": {},
   "outputs": [
    {
     "data": {
      "image/png": "[encoded data removed]",
      "text/plain": [
       "<Figure size 360x216 with 2 Axes>"
      ]
     },
     "metadata": {
      "needs_background": "light"
     },
     "output_type": "display_data"
    },
    {
     "name": "stdout",
     "output_type": "stream",
     "text": [
      "Test Accuracy:  0.9852\n",
      "Precision Score: 0.9783123028391167\n",
      "Recall Score: 0.9924\n",
      "F1 Score: 0.9853057982525815\n"
     ]
    }
   ],
   "source": [
    "# DECISION TREE CLASSIFIER MODEL\n",
    "dt_clf = DecisionTreeClassifier(max_depth=100, min_samples_split=3)\n",
    "evaluate_model(dt_clf, X_train, X_test, y_train, y_test)"
   ]
  },
  {
   "cell_type": "code",
   "execution_count": 22,
   "id": "e411d0d4",
   "metadata": {},
   "outputs": [
    {
     "data": {
      "image/png": "[encoded data removed]",
      "text/plain": [
       "<Figure size 360x216 with 2 Axes>"
      ]
     },
     "metadata": {
      "needs_background": "light"
     },
     "output_type": "display_data"
    },
    {
     "name": "stdout",
     "output_type": "stream",
     "text": [
      "Test Accuracy:  0.8329333333333333\n",
      "Precision Score: 0.96900826446281\n",
      "Recall Score: 0.6878666666666666\n",
      "F1 Score: 0.8045851528384279\n"
     ]
    }
   ],
   "source": [
    "# GAUSSIAN NAIVE BAYES CLASSIFICATIONS MODEL\n",
    "gnb_clf = GaussianNB()\n",
    "evaluate_model(gnb_clf, X_train, X_test, y_train, y_test)"
   ]
  },
  {
   "cell_type": "markdown",
   "id": "7357b5cb",
   "metadata": {},
   "source": [
    "# MORE COMPLEX MODELS"
   ]
  },
  {
   "cell_type": "code",
   "execution_count": 15,
   "id": "b10883f6",
   "metadata": {},
   "outputs": [
    {
     "data": {
      "image/png": "[encoded data removed]",
      "text/plain": [
       "<Figure size 360x216 with 2 Axes>"
      ]
     },
     "metadata": {
      "needs_background": "light"
     },
     "output_type": "display_data"
    },
    {
     "name": "stdout",
     "output_type": "stream",
     "text": [
      "Test Accuracy:  0.9452\n",
      "Precision Score: 0.9531758957654723\n",
      "Recall Score: 0.9364\n",
      "F1 Score: 0.9447134786117838\n"
     ]
    }
   ],
   "source": [
    "# ADABOOST CLASSIFIER MODEL\n",
    "adaboost_clf = AdaBoostClassifier(n_estimators=100)\n",
    "evaluate_model(adaboost_clf, X_train, X_test, y_train, y_test)"
   ]
  },
  {
   "cell_type": "code",
   "execution_count": 16,
   "id": "46ffb091",
   "metadata": {},
   "outputs": [
    {
     "data": {
      "image/png": "[encoded data removed]",
      "text/plain": [
       "<Figure size 360x216 with 2 Axes>"
      ]
     },
     "metadata": {
      "needs_background": "light"
     },
     "output_type": "display_data"
    },
    {
     "name": "stdout",
     "output_type": "stream",
     "text": [
      "Test Accuracy:  0.9884666666666667\n",
      "Precision Score: 0.9828654277052854\n",
      "Recall Score: 0.9942666666666666\n",
      "F1 Score: 0.988533174255982\n"
     ]
    }
   ],
   "source": [
    "# BAGGING CLASSIFIER MODEL\n",
    "dt_base_estimator = DecisionTreeClassifier(max_depth=100, min_samples_split=3)\n",
    "bagging_clf = BaggingClassifier(base_estimator=dt_base_estimator, n_estimators=100)\n",
    "evaluate_model(bagging_clf, X_train, X_test, y_train, y_test)"
   ]
  },
  {
   "cell_type": "code",
   "execution_count": 17,
   "id": "d28a32d5",
   "metadata": {
    "scrolled": false
   },
   "outputs": [
    {
     "name": "stdout",
     "output_type": "stream",
     "text": [
      "building tree 1 of 100\n"
     ]
    },
    {
     "name": "stderr",
     "output_type": "stream",
     "text": [
      "[Parallel(n_jobs=1)]: Using backend SequentialBackend with 1 concurrent workers.\n",
      "[Parallel(n_jobs=1)]: Done   1 out of   1 | elapsed:    0.0s remaining:    0.0s\n"
     ]
    },
    {
     "name": "stdout",
     "output_type": "stream",
     "text": [
      "building tree 2 of 100\n",
      "building tree 3 of 100\n",
      "building tree 4 of 100\n",
      "building tree 5 of 100\n",
      "building tree 6 of 100\n",
      "building tree 7 of 100\n",
      "building tree 8 of 100\n",
      "building tree 9 of 100\n",
      "building tree 10 of 100\n",
      "building tree 11 of 100\n",
      "building tree 12 of 100\n",
      "building tree 13 of 100\n",
      "building tree 14 of 100\n",
      "building tree 15 of 100\n",
      "building tree 16 of 100\n",
      "building tree 17 of 100\n",
      "building tree 18 of 100\n",
      "building tree 19 of 100\n",
      "building tree 20 of 100\n",
      "building tree 21 of 100\n",
      "building tree 22 of 100\n",
      "building tree 23 of 100\n",
      "building tree 24 of 100\n",
      "building tree 25 of 100\n",
      "building tree 26 of 100\n",
      "building tree 27 of 100\n",
      "building tree 28 of 100\n",
      "building tree 29 of 100\n",
      "building tree 30 of 100\n",
      "building tree 31 of 100\n",
      "building tree 32 of 100\n",
      "building tree 33 of 100\n",
      "building tree 34 of 100\n",
      "building tree 35 of 100\n",
      "building tree 36 of 100\n",
      "building tree 37 of 100\n",
      "building tree 38 of 100\n",
      "building tree 39 of 100\n",
      "building tree 40 of 100\n",
      "building tree 41 of 100\n",
      "building tree 42 of 100\n",
      "building tree 43 of 100\n",
      "building tree 44 of 100\n",
      "building tree 45 of 100\n",
      "building tree 46 of 100\n",
      "building tree 47 of 100\n",
      "building tree 48 of 100\n",
      "building tree 49 of 100\n",
      "building tree 50 of 100\n",
      "building tree 51 of 100\n",
      "building tree 52 of 100\n",
      "building tree 53 of 100\n",
      "building tree 54 of 100\n",
      "building tree 55 of 100\n",
      "building tree 56 of 100\n",
      "building tree 57 of 100\n",
      "building tree 58 of 100\n",
      "building tree 59 of 100\n",
      "building tree 60 of 100\n",
      "building tree 61 of 100\n",
      "building tree 62 of 100\n",
      "building tree 63 of 100\n",
      "building tree 64 of 100\n",
      "building tree 65 of 100\n",
      "building tree 66 of 100\n",
      "building tree 67 of 100\n",
      "building tree 68 of 100\n",
      "building tree 69 of 100\n",
      "building tree 70 of 100\n",
      "building tree 71 of 100\n",
      "building tree 72 of 100\n",
      "building tree 73 of 100\n",
      "building tree 74 of 100\n",
      "building tree 75 of 100\n",
      "building tree 76 of 100\n",
      "building tree 77 of 100\n",
      "building tree 78 of 100\n",
      "building tree 79 of 100\n",
      "building tree 80 of 100\n",
      "building tree 81 of 100\n",
      "building tree 82 of 100\n",
      "building tree 83 of 100\n",
      "building tree 84 of 100\n",
      "building tree 85 of 100\n",
      "building tree 86 of 100\n",
      "building tree 87 of 100\n",
      "building tree 88 of 100\n",
      "building tree 89 of 100\n",
      "building tree 90 of 100\n",
      "building tree 91 of 100\n",
      "building tree 92 of 100\n",
      "building tree 93 of 100\n",
      "building tree 94 of 100\n",
      "building tree 95 of 100\n",
      "building tree 96 of 100\n",
      "building tree 97 of 100\n",
      "building tree 98 of 100\n",
      "building tree 99 of 100\n",
      "building tree 100 of 100\n"
     ]
    },
    {
     "name": "stderr",
     "output_type": "stream",
     "text": [
      "[Parallel(n_jobs=1)]: Done 100 out of 100 | elapsed:   15.5s finished\n",
      "[Parallel(n_jobs=1)]: Using backend SequentialBackend with 1 concurrent workers.\n",
      "[Parallel(n_jobs=1)]: Done   1 out of   1 | elapsed:    0.0s remaining:    0.0s\n",
      "[Parallel(n_jobs=1)]: Done 100 out of 100 | elapsed:    0.7s finished\n"
     ]
    },
    {
     "data": {
      "image/png": "[encoded data removed]",
      "text/plain": [
       "<Figure size 360x216 with 2 Axes>"
      ]
     },
     "metadata": {
      "needs_background": "light"
     },
     "output_type": "display_data"
    },
    {
     "name": "stdout",
     "output_type": "stream",
     "text": [
      "Test Accuracy:  0.9883333333333333\n",
      "Precision Score: 0.9922053487434485\n",
      "Recall Score: 0.9844\n",
      "F1 Score: 0.9882872632353925\n"
     ]
    }
   ],
   "source": [
    "# EXTRA TREES CLASSIFIER MODEL\n",
    "extratree_clf = ExtraTreesClassifier(n_estimators=100, max_depth=100, min_samples_split=3, verbose=2)\n",
    "evaluate_model(extratree_clf, X_train, X_test, y_train, y_test)"
   ]
  },
  {
   "cell_type": "code",
   "execution_count": null,
   "id": "dd71c374",
   "metadata": {},
   "outputs": [],
   "source": []
  },
  {
   "cell_type": "code",
   "execution_count": null,
   "id": "39d76473",
   "metadata": {},
   "outputs": [],
   "source": []
  },
  {
   "cell_type": "code",
   "execution_count": null,
   "id": "655a1f82",
   "metadata": {},
   "outputs": [],
   "source": []
  },
  {
   "cell_type": "code",
   "execution_count": null,
   "id": "90a1dcdb",
   "metadata": {},
   "outputs": [],
   "source": []
  },
  {
   "cell_type": "code",
   "execution_count": null,
   "id": "cf76d4f9",
   "metadata": {},
   "outputs": [],
   "source": []
  },
  {
   "cell_type": "code",
   "execution_count": null,
   "id": "36c7e4a2",
   "metadata": {},
   "outputs": [],
   "source": [
    "import pickle\n",
    "\n",
    "# save\n",
    "with open('random_forest_model1.pkl','wb') as random_forest_model1:\n",
    "    pickle.dump(random_forest_clf, random_forest_model1)\n",
    "\n",
    "# # load\n",
    "# with open('random_forest_model1.pkl', 'rb') as random_forest_model1:\n",
    "#     random_forest_clf = pickle.load(random_forest_model1)\n",
    "\n",
    "# random_forest_clf.predict(X[0:1])"
   ]
  },
  {
   "cell_type": "code",
   "execution_count": null,
   "id": "3c964f7a",
   "metadata": {},
   "outputs": [],
   "source": [
    "# How to uplaod code to github: https://www.geeksforgeeks.org/how-to-upload-project-on-github-from-jupyter-notebook/"
   ]
  }
 ],
 "metadata": {
  "kernelspec": {
   "display_name": "Python 3",
   "language": "python",
   "name": "python3"
  },
  "language_info": {
   "codemirror_mode": {
    "name": "ipython",
    "version": 3
   },
   "file_extension": ".py",
   "mimetype": "text/x-python",
   "name": "python",
   "nbconvert_exporter": "python",
   "pygments_lexer": "ipython3",
   "version": "3.8.8"
  }
 },
 "nbformat": 4,
 "nbformat_minor": 5
}
